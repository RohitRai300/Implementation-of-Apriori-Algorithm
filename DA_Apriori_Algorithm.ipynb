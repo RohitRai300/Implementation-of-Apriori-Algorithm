{
 "cells": [
  {
   "cell_type": "code",
   "execution_count": 1,
   "metadata": {
    "id": "pWFHTVDpmQw0"
   },
   "outputs": [],
   "source": [
    "# Submitted By: Rohit Rai (MIT2020098)\n",
    "# Implementation of Apriori Algorithm\n",
    "\n",
    "import numpy as np"
   ]
  },
  {
   "cell_type": "markdown",
   "metadata": {
    "id": "q1iqULmEqvSA"
   },
   "source": [
    "Loading the data"
   ]
  },
  {
   "cell_type": "code",
   "execution_count": 2,
   "metadata": {
    "colab": {
     "base_uri": "https://localhost:8080/"
    },
    "id": "VXGGygIFnk0O",
    "outputId": "d898a2a4-6951-4a50-dd69-6af0af00e044"
   },
   "outputs": [
    {
     "data": {
      "text/plain": [
       "['I1', 'I2', 'I3', 'I4', 'I5']"
      ]
     },
     "execution_count": 2,
     "metadata": {},
     "output_type": "execute_result"
    }
   ],
   "source": [
    "path_to_data = \"transaction_data.txt\"\n",
    "min_support = 2/9\n",
    "min_conf = 0.3\n",
    "order = ['I' + str(i) for i in range(1,6)]\n",
    "order"
   ]
  },
  {
   "cell_type": "code",
   "execution_count": 3,
   "metadata": {
    "colab": {
     "base_uri": "https://localhost:8080/"
    },
    "id": "11iPftGErQuE",
    "outputId": "0b62aa0f-c3d6-43bb-dda7-7cc0eb91ba3e"
   },
   "outputs": [
    {
     "data": {
      "text/plain": [
       "[['I1', 'I2', 'I5'],\n",
       " ['I2', 'I4'],\n",
       " ['I2', 'I3'],\n",
       " ['I1', 'I2', 'I4'],\n",
       " ['I1', 'I3'],\n",
       " ['I2', 'I3'],\n",
       " ['I1', 'I3'],\n",
       " ['I1', 'I2', 'I3', 'I5'],\n",
       " ['I1', 'I2', 'I3']]"
      ]
     },
     "execution_count": 3,
     "metadata": {},
     "output_type": "execute_result"
    }
   ],
   "source": [
    "def load_transactions(path_to_data, order):\n",
    "    Transactions = []\n",
    "    with open(path_to_data, 'r') as fid:\n",
    "        for lines in fid:\n",
    "            str_lines = list(lines.strip().split(','))\n",
    "            _t = list(np.unique(str_lines))\n",
    "            _t.sort(key = lambda x: order.index(x))\n",
    "            Transactions.append(_t)\n",
    "    return Transactions        \n",
    "\n",
    "\n",
    "Transactions = load_transactions(path_to_data, order)\n",
    "num_trans = len(Transactions)\n",
    "Transactions"
   ]
  },
  {
   "cell_type": "markdown",
   "metadata": {
    "id": "mutijFyksa8n"
   },
   "source": [
    "Initialization"
   ]
  },
  {
   "cell_type": "markdown",
   "metadata": {
    "id": "XUM8sbobwmtS"
   },
   "source": [
    "Create C1"
   ]
  },
  {
   "cell_type": "code",
   "execution_count": 4,
   "metadata": {
    "id": "fLJ5JcbosT8h"
   },
   "outputs": [],
   "source": [
    "C = {}\n",
    "L = {}\n",
    "itemset_size = 1\n",
    "Discarded = {itemset_size : []}\n",
    "C.update({itemset_size : [ [f] for f in order]})"
   ]
  },
  {
   "cell_type": "code",
   "execution_count": 5,
   "metadata": {
    "colab": {
     "base_uri": "https://localhost:8080/"
    },
    "id": "Av2krC57swzD",
    "outputId": "04fb8b4c-89d5-4cf7-e78e-ade85ff40961"
   },
   "outputs": [
    {
     "data": {
      "text/plain": [
       "{1: [['I1'], ['I2'], ['I3'], ['I4'], ['I5']]}"
      ]
     },
     "execution_count": 5,
     "metadata": {},
     "output_type": "execute_result"
    }
   ],
   "source": [
    "C"
   ]
  },
  {
   "cell_type": "code",
   "execution_count": 6,
   "metadata": {
    "id": "v35IWGp4yPCP"
   },
   "outputs": [],
   "source": [
    "# helper function\n",
    "def print_table(T, supp_count):\n",
    "  print(\" Itemset : Frequency\")\n",
    "  for k in range(len(T)):\n",
    "    print(\"{} : {} \".format(T[k], supp_count[k]))\n",
    "  print(\"\\n\\n\")  "
   ]
  },
  {
   "cell_type": "markdown",
   "metadata": {
    "id": "pF28WfcEs36N"
   },
   "source": [
    "Create L1"
   ]
  },
  {
   "cell_type": "code",
   "execution_count": 8,
   "metadata": {
    "id": "PPhbpXDJszpN"
   },
   "outputs": [],
   "source": [
    "# helper function\n",
    "def count_occurences(itemset, Transactions):\n",
    "  count=0\n",
    "  for i in range(len(Transactions)):\n",
    "    if set(itemset).issubset(set(Transactions[i])):\n",
    "      count += 1\n",
    "  return count    \n",
    "\n",
    "# helper function\n",
    "def get_frequent(itemsets, Transactions, min_support, prev_discarded):\n",
    "  L = []\n",
    "  supp_count = []\n",
    "  new_discarded = []\n",
    "\n",
    "  k = len(prev_discarded.keys())\n",
    "  for s in range(len(itemsets)):\n",
    "    discarded_before = False\n",
    "    if k > 0:\n",
    "      for it in prev_discarded[k]:\n",
    "        if set(it).issubset(set(itemsets[s])):\n",
    "          discarded_before = True\n",
    "          break\n",
    "    \n",
    "    if not discarded_before:\n",
    "      count = count_occurences(itemsets[s], Transactions)\n",
    "      if count/len(Transactions) >= min_support:\n",
    "        L.append(itemsets[s])\n",
    "        supp_count.append(count)\n",
    "      else: \n",
    "        new_discarded.append(itemsets[s])        \n",
    "\n",
    "  return L, supp_count, new_discarded  \n",
    "\n",
    "\n",
    "\n",
    "supp_count_L = {}\n",
    "f, sup, new_discarded = get_frequent(C[itemset_size], Transactions, min_support, Discarded)\n",
    "Discarded.update({itemset_size : new_discarded})\n",
    "L.update({itemset_size : f})\n",
    "supp_count_L.update({itemset_size : sup})\n"
   ]
  },
  {
   "cell_type": "code",
   "execution_count": 9,
   "metadata": {
    "colab": {
     "base_uri": "https://localhost:8080/"
    },
    "id": "VgSBm06vzSA9",
    "outputId": "6c67b1ba-b826-4930-cf09-4234dd2dec4e",
    "scrolled": true
   },
   "outputs": [
    {
     "name": "stdout",
     "output_type": "stream",
     "text": [
      "L1: \n",
      " Itemset : Frequency\n",
      "['I1'] : 6 \n",
      "['I2'] : 7 \n",
      "['I3'] : 6 \n",
      "['I4'] : 2 \n",
      "['I5'] : 2 \n",
      "\n",
      "\n",
      "\n"
     ]
    }
   ],
   "source": [
    "print(\"L1: \")\n",
    "print_table(L[1], supp_count_L[1])"
   ]
  },
  {
   "cell_type": "code",
   "execution_count": 10,
   "metadata": {
    "id": "POQXiJ2WztIz"
   },
   "outputs": [],
   "source": [
    "#"
   ]
  },
  {
   "cell_type": "markdown",
   "metadata": {
    "id": "XaKUq_l90Pl9"
   },
   "source": [
    "C[k] (we need the join step from L[k-1]) and\n",
    "L[k]\n"
   ]
  },
  {
   "cell_type": "code",
   "execution_count": 11,
   "metadata": {
    "id": "0bl1L94I4rb4"
   },
   "outputs": [],
   "source": [
    "# helper function\n",
    "def join_two_itemsets(it1, it2, order):\n",
    "  it1.sort(key = lambda x: order.index(x))\n",
    "  it2.sort(key = lambda x: order.index(x))\n",
    "  for i in range(len(it1)-1):\n",
    "    if it1[i] != it2[i]:\n",
    "      return []\n",
    "  if order.index(it1[-1]) < order.index(it2[-1]):\n",
    "    return it1 + [it2[-1]]    \n",
    "  return []\n",
    "\n",
    "# helper function\n",
    "def join_set_itemsets(set_of_its, order):\n",
    "  C = []\n",
    "  for i in range(len(set_of_its)):\n",
    "    for j in range(i+1, len(set_of_its)):\n",
    "      it_out = join_two_itemsets(set_of_its[i], set_of_its[j], order)\n",
    "      if len(it_out) > 0:\n",
    "        C.append(it_out)\n",
    "  return C"
   ]
  },
  {
   "cell_type": "code",
   "execution_count": 12,
   "metadata": {
    "colab": {
     "base_uri": "https://localhost:8080/"
    },
    "id": "6qruQfrAz-75",
    "outputId": "8ddfe48c-dd7a-462b-a210-e04324a0b357"
   },
   "outputs": [
    {
     "name": "stdout",
     "output_type": "stream",
     "text": [
      "Table C2: \n",
      "\n",
      " Itemset : Frequency\n",
      "['I1', 'I2'] : 4 \n",
      "['I1', 'I3'] : 4 \n",
      "['I1', 'I4'] : 1 \n",
      "['I1', 'I5'] : 2 \n",
      "['I2', 'I3'] : 4 \n",
      "['I2', 'I4'] : 2 \n",
      "['I2', 'I5'] : 2 \n",
      "['I3', 'I4'] : 0 \n",
      "['I3', 'I5'] : 1 \n",
      "['I4', 'I5'] : 0 \n",
      "\n",
      "\n",
      "\n",
      "Table L2: \n",
      "\n",
      " Itemset : Frequency\n",
      "['I1', 'I2'] : 4 \n",
      "['I1', 'I3'] : 4 \n",
      "['I1', 'I5'] : 2 \n",
      "['I2', 'I3'] : 4 \n",
      "['I2', 'I4'] : 2 \n",
      "['I2', 'I5'] : 2 \n",
      "\n",
      "\n",
      "\n",
      "Table C3: \n",
      "\n",
      " Itemset : Frequency\n",
      "['I1', 'I2', 'I3'] : 2 \n",
      "['I1', 'I2', 'I5'] : 2 \n",
      "['I1', 'I3', 'I5'] : 1 \n",
      "['I2', 'I3', 'I4'] : 0 \n",
      "['I2', 'I3', 'I5'] : 1 \n",
      "['I2', 'I4', 'I5'] : 0 \n",
      "\n",
      "\n",
      "\n",
      "Table L3: \n",
      "\n",
      " Itemset : Frequency\n",
      "['I1', 'I2', 'I3'] : 2 \n",
      "['I1', 'I2', 'I5'] : 2 \n",
      "\n",
      "\n",
      "\n",
      "Table C4: \n",
      "\n",
      " Itemset : Frequency\n",
      "['I1', 'I2', 'I3', 'I5'] : 1 \n",
      "\n",
      "\n",
      "\n"
     ]
    }
   ],
   "source": [
    "k = itemset_size + 1\n",
    "convergence = False\n",
    "while not convergence:\n",
    "  C.update({ k : join_set_itemsets(L[k-1], order)})\n",
    "  print(\"Table C{}: \\n\".format(k))\n",
    "  print_table(C[k], [count_occurences(it, Transactions) for it in C[k]])\n",
    "  f, sup, new_discarded = get_frequent(C[k], Transactions, min_support, Discarded)\n",
    "  Discarded.update({ k : new_discarded})\n",
    "  L.update({ k : f})\n",
    "  supp_count_L.update({ k : sup })\n",
    "  if len(L[k]) == 0:\n",
    "    convergence = True\n",
    "  else:\n",
    "    print(\"Table L{}: \\n\".format(k))\n",
    "    print_table(L[k], supp_count_L[k])  \n",
    "  k += 1\n"
   ]
  },
  {
   "cell_type": "markdown",
   "metadata": {
    "id": "EbxKrVcOA65n"
   },
   "source": [
    "Generating Association Rules"
   ]
  },
  {
   "cell_type": "code",
   "execution_count": 13,
   "metadata": {
    "id": "BmErzytQC93H"
   },
   "outputs": [],
   "source": [
    "from itertools import combinations, chain\n",
    "def powerset(s):\n",
    "  return list(chain.from_iterable(combinations(s, r) for r in range(1, len(s) + 1))) "
   ]
  },
  {
   "cell_type": "code",
   "execution_count": 20,
   "metadata": {
    "id": "gEqw9tTXDsAB"
   },
   "outputs": [],
   "source": [
    "def write_rules(X, X_S, S, conf, supp, lift, num_transactions):\n",
    "  out_rules = \"\"\n",
    "  out_rules += \"Freq. Itemset: {}\\n\".format(X)\n",
    "  out_rules += \"  Rule: {} -> {} \\n\".format(list(S), list(X_S))\n",
    "  out_rules += \"  Conf: {0:2.3f} \".format(conf)\n",
    "  out_rules += \"  Supp: {0:2.3f} \".format(supp / num_trans)\n",
    "  out_rules += \"  Lift: {0:2.3f} \".format(lift)\n",
    "  out_rules += \"\\n \"\n",
    "  return out_rules\n"
   ]
  },
  {
   "cell_type": "code",
   "execution_count": 21,
   "metadata": {
    "id": "WyK8Lbj_Azz0"
   },
   "outputs": [],
   "source": [
    "assoc_rules_str = \"\"\n",
    "\n",
    "for i in range(1, len(L)):\n",
    "  for j in range(len(L[i])):\n",
    "    s = powerset(L[i][j])\n",
    "    s.pop()\n",
    "    for z in s:\n",
    "      S = set(z)\n",
    "      X = set(L[i][j])\n",
    "      X_S = set(X-S)\n",
    "      sup_x = count_occurences(X, Transactions)\n",
    "      sup_x_s = count_occurences(X_S, Transactions)\n",
    "      conf = sup_x / count_occurences(S, Transactions)\n",
    "      lift = conf / ( sup_x_s / num_trans )\n",
    "      if conf >= min_conf and sup_x >= min_support:\n",
    "        assoc_rules_str += write_rules(X, X_S, S, conf, sup_x, lift, num_trans)\n",
    "\n"
   ]
  },
  {
   "cell_type": "code",
   "execution_count": 22,
   "metadata": {
    "colab": {
     "base_uri": "https://localhost:8080/"
    },
    "id": "Y4nkCLmlFkHe",
    "outputId": "f3b8ad20-b4bc-4bcc-ba80-ceafa664c8f9",
    "scrolled": true
   },
   "outputs": [
    {
     "name": "stdout",
     "output_type": "stream",
     "text": [
      "Freq. Itemset: {'I2', 'I1'}\n",
      "  Rule: ['I1'] -> ['I2'] \n",
      "  Conf: 0.667   Supp: 4.000   Lift: 0.857 \n",
      " Freq. Itemset: {'I2', 'I1'}\n",
      "  Rule: ['I2'] -> ['I1'] \n",
      "  Conf: 0.571   Supp: 4.000   Lift: 0.857 \n",
      " Freq. Itemset: {'I1', 'I3'}\n",
      "  Rule: ['I1'] -> ['I3'] \n",
      "  Conf: 0.667   Supp: 4.000   Lift: 1.000 \n",
      " Freq. Itemset: {'I1', 'I3'}\n",
      "  Rule: ['I3'] -> ['I1'] \n",
      "  Conf: 0.667   Supp: 4.000   Lift: 1.000 \n",
      " Freq. Itemset: {'I5', 'I1'}\n",
      "  Rule: ['I1'] -> ['I5'] \n",
      "  Conf: 0.333   Supp: 2.000   Lift: 1.500 \n",
      " Freq. Itemset: {'I5', 'I1'}\n",
      "  Rule: ['I5'] -> ['I1'] \n",
      "  Conf: 1.000   Supp: 2.000   Lift: 1.500 \n",
      " Freq. Itemset: {'I2', 'I3'}\n",
      "  Rule: ['I2'] -> ['I3'] \n",
      "  Conf: 0.571   Supp: 4.000   Lift: 0.857 \n",
      " Freq. Itemset: {'I2', 'I3'}\n",
      "  Rule: ['I3'] -> ['I2'] \n",
      "  Conf: 0.667   Supp: 4.000   Lift: 0.857 \n",
      " Freq. Itemset: {'I4', 'I2'}\n",
      "  Rule: ['I4'] -> ['I2'] \n",
      "  Conf: 1.000   Supp: 2.000   Lift: 1.286 \n",
      " Freq. Itemset: {'I5', 'I2'}\n",
      "  Rule: ['I5'] -> ['I2'] \n",
      "  Conf: 1.000   Supp: 2.000   Lift: 1.286 \n",
      " Freq. Itemset: {'I2', 'I1', 'I3'}\n",
      "  Rule: ['I1'] -> ['I2', 'I3'] \n",
      "  Conf: 0.333   Supp: 2.000   Lift: 0.750 \n",
      " Freq. Itemset: {'I2', 'I1', 'I3'}\n",
      "  Rule: ['I3'] -> ['I1', 'I2'] \n",
      "  Conf: 0.333   Supp: 2.000   Lift: 0.750 \n",
      " Freq. Itemset: {'I2', 'I1', 'I3'}\n",
      "  Rule: ['I2', 'I1'] -> ['I3'] \n",
      "  Conf: 0.500   Supp: 2.000   Lift: 0.750 \n",
      " Freq. Itemset: {'I2', 'I1', 'I3'}\n",
      "  Rule: ['I1', 'I3'] -> ['I2'] \n",
      "  Conf: 0.500   Supp: 2.000   Lift: 0.643 \n",
      " Freq. Itemset: {'I2', 'I1', 'I3'}\n",
      "  Rule: ['I2', 'I3'] -> ['I1'] \n",
      "  Conf: 0.500   Supp: 2.000   Lift: 0.750 \n",
      " Freq. Itemset: {'I2', 'I5', 'I1'}\n",
      "  Rule: ['I1'] -> ['I5', 'I2'] \n",
      "  Conf: 0.333   Supp: 2.000   Lift: 1.500 \n",
      " Freq. Itemset: {'I2', 'I5', 'I1'}\n",
      "  Rule: ['I5'] -> ['I1', 'I2'] \n",
      "  Conf: 1.000   Supp: 2.000   Lift: 2.250 \n",
      " Freq. Itemset: {'I2', 'I5', 'I1'}\n",
      "  Rule: ['I2', 'I1'] -> ['I5'] \n",
      "  Conf: 0.500   Supp: 2.000   Lift: 2.250 \n",
      " Freq. Itemset: {'I2', 'I5', 'I1'}\n",
      "  Rule: ['I5', 'I1'] -> ['I2'] \n",
      "  Conf: 1.000   Supp: 2.000   Lift: 1.286 \n",
      " Freq. Itemset: {'I2', 'I5', 'I1'}\n",
      "  Rule: ['I5', 'I2'] -> ['I1'] \n",
      "  Conf: 1.000   Supp: 2.000   Lift: 1.500 \n",
      " \n"
     ]
    }
   ],
   "source": [
    "print(assoc_rules_str)"
   ]
  },
  {
   "cell_type": "code",
   "execution_count": null,
   "metadata": {},
   "outputs": [],
   "source": []
  },
  {
   "cell_type": "code",
   "execution_count": null,
   "metadata": {},
   "outputs": [],
   "source": []
  }
 ],
 "metadata": {
  "colab": {
   "collapsed_sections": [],
   "name": "DA_Apriori_Lab2",
   "provenance": []
  },
  "kernelspec": {
   "display_name": "Python 3",
   "language": "python",
   "name": "python3"
  },
  "language_info": {
   "codemirror_mode": {
    "name": "ipython",
    "version": 3
   },
   "file_extension": ".py",
   "mimetype": "text/x-python",
   "name": "python",
   "nbconvert_exporter": "python",
   "pygments_lexer": "ipython3",
   "version": "3.8.5"
  }
 },
 "nbformat": 4,
 "nbformat_minor": 1
}
